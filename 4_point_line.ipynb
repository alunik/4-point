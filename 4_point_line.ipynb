{
 "cells": [
  {
   "cell_type": "markdown",
   "id": "06a1c0a1-5998-4154-97b0-0f9796142ce0",
   "metadata": {},
   "source": [
    "# 4-point line analysis using the NBA API\n",
    "\n",
    "Inspired by JxmyHighroller's [youtube video](https://www.youtube.com/watch?v=XyihDTdpF8w&t=522s) about the hypothetical addition of a 4 point line, we use the NBA API to answer a few different questions.\n",
    "\n",
    "<ol>\n",
    "<li>How many games in the 2022/2023 season (including playoffs), would have had the result flipped (win to loss or viceversa) if the baskets made at distance >= 30ft were counted as 4 points?</li>\n",
    "<li>What is the answer to the first question for other seasons?</li>\n",
    "<li>What happens if we change the 4-point line to a different distance?</li>\n",
    "</ol>\n",
    "\n",
    "### Spoiler alert: JxmyHighroller miscounted"
   ]
  },
  {
   "cell_type": "markdown",
   "id": "ec3b0f80-36cd-4f13-b576-7a4d3e99ced6",
   "metadata": {},
   "source": [
    "We begin by importing the relevant packages and endpoints from the NBA API."
   ]
  },
  {
   "cell_type": "code",
   "execution_count": 1,
   "id": "959ea5d2-4b53-4701-ba97-319cf570cf46",
   "metadata": {},
   "outputs": [],
   "source": [
    "import requests\n",
    "import json\n",
    "import pandas as pd\n",
    "import matplotlib\n",
    "from nba_api.stats.endpoints import shotchartdetail\n",
    "from nba_api.stats.endpoints import leaguegamefinder"
   ]
  },
  {
   "cell_type": "markdown",
   "id": "3cf92674-295e-4c94-b88e-7f9fccd6bd5c",
   "metadata": {},
   "source": [
    "We now build a function that for a given season, returns a data frame containing info of all the games played, including playoffs."
   ]
  },
  {
   "cell_type": "code",
   "execution_count": 2,
   "id": "13e2a207-16f3-4a0b-9e18-1e897ce85773",
   "metadata": {},
   "outputs": [],
   "source": [
    "def findAllGames(season):\n",
    "    # We query leaguegamefinder to get a record of all regular season games in the season\n",
    "    result_regular = leaguegamefinder.LeagueGameFinder(season_nullable = season,league_id_nullable = '00',season_type_nullable = 'Regular Season')\n",
    "\n",
    "    # We store this in a data frame\n",
    "    all_games_regular = pd.DataFrame(result_regular.get_data_frames()[0])\n",
    "\n",
    "    # We query leaguegamefinder to get a record of all playoff games in the season\n",
    "    result_playoffs = leaguegamefinder.LeagueGameFinder(season_nullable = '2022-23',league_id_nullable = '00',season_type_nullable = 'Playoffs')\n",
    "\n",
    "    # We store this in a data frame\n",
    "    all_games_playoffs = pd.DataFrame(result_playoffs.get_data_frames()[0])\n",
    "\n",
    "    #Finally we combine the two data frames, and get a list of the unique game ids, which we will use later.\n",
    "    all_games = pd.concat([all_games_regular,all_games_playoffs])\n",
    "    return all_games"
   ]
  },
  {
   "cell_type": "markdown",
   "id": "5a1c2cb1-6f40-495a-b47a-ee99953788e2",
   "metadata": {},
   "source": [
    "We can use the shotchartdetail endpoint to get a record of all made shots in a specific game."
   ]
  },
  {
   "cell_type": "code",
   "execution_count": 3,
   "id": "78ded978-2c7f-43ef-b81e-73ff96626457",
   "metadata": {},
   "outputs": [],
   "source": [
    "def allShots(season):\n",
    "    #The following record contains all made shots of the regular season, note the use of '0' to allow any value\n",
    "    shot_details_regular = shotchartdetail.ShotChartDetail(\n",
    "                team_id = '0',\n",
    "                player_id = '0',\n",
    "                context_measure_simple = 'PTS',\n",
    "                season_nullable = season,\n",
    "                season_type_all_star = 'Regular Season')\n",
    "\n",
    "    #The following record contains all made shots of the playoffs\n",
    "    shot_details_playoffs = shotchartdetail.ShotChartDetail(\n",
    "                team_id = '0',\n",
    "                player_id = '0',\n",
    "                context_measure_simple = 'PTS',\n",
    "                season_nullable = season,\n",
    "                season_type_all_star = 'Playoffs')\n",
    "\n",
    "    #We combine the information in a single data frame containing all made shots of the season\n",
    "    shot_df_regular = pd.DataFrame(shot_details_regular.get_data_frames()[0])\n",
    "    shot_df_playoffs = pd.DataFrame(shot_details_playoffs.get_data_frames()[0])\n",
    "    shot_df_all = pd.concat([shot_df_regular,shot_df_playoffs])\n",
    "    return shot_df_all"
   ]
  },
  {
   "cell_type": "markdown",
   "id": "d42e1a1f-440b-401f-867b-2c31c0dd65fa",
   "metadata": {},
   "source": [
    "Given a specific game id, we can now filter through the database of shots, find all the shots made in a single game, and check if the final result would have changed with a 4-point line. We output two arrays, the first one representing the game ids of the games that would have changed result from a win to a loss, and a second one if the game would have gone to an extra overtime."
   ]
  },
  {
   "cell_type": "code",
   "execution_count": 4,
   "id": "074bd891-f96f-4084-8ad9-e9371cdd29a8",
   "metadata": {},
   "outputs": [],
   "source": [
    "def findAllGamesChanged(season,line_distance):\n",
    "    #this is used to store the ids of the games were the result would have been different\n",
    "    games_changed = []\n",
    "    games_to_overtime = []\n",
    "\n",
    "    #get all the games played\n",
    "    all_games = findAllGames(season)\n",
    "\n",
    "    #get all the shots\n",
    "    shot_df_all = allShots(season)\n",
    "\n",
    "    #get all ids making sure that all games are in both databases, to avoid errors\n",
    "    allIds = set(shot_df_all['GAME_ID'].unique()).intersection(set(all_games['GAME_ID'].unique()))\n",
    "    \n",
    "    #iterate through all the unique game ids of the season\n",
    "    for g_id in allIds:\n",
    "        #get the teams names and the points scored for the specific game\n",
    "        full_game = all_games[all_games.GAME_ID == g_id]\n",
    "        two_teams = full_game['TEAM_NAME'].unique()\n",
    "        points_team_zero = full_game[full_game.TEAM_NAME == two_teams[0]]['PTS'].unique()[0]\n",
    "        points_team_one = full_game[full_game.TEAM_NAME == two_teams[1]]['PTS'].unique()[0]\n",
    "\n",
    "        #the value pm denoted the difference in score, in particular team_zero won the game iff pm is positive\n",
    "        pm =  points_team_zero-points_team_one\n",
    "\n",
    "        #filter the shots dataframe to this specific game\n",
    "        shot_df = shot_df_all[shot_df_all.GAME_ID== g_id]\n",
    "\n",
    "        #we need to pay attention to possible overtimes, the array periods contains the number of quarters\n",
    "        #if there was no overtime, periods = [1,2,3,4]\n",
    "        periods = shot_df['PERIOD'].unique()\n",
    "\n",
    "        #filter the shots to the 30+ footers\n",
    "        four_pointers = shot_df[shot_df.SHOT_DISTANCE >= line_distance]\n",
    "\n",
    "        #in order to take care of possible overtimes, we split the 4 pointers according to whether they were made in regular time\n",
    "        #or in a specific overtime\n",
    "        team_zero_gains = [len(four_pointers[(four_pointers.TEAM_NAME == two_teams[0]) & (four_pointers.PERIOD <= x)]) for x in periods]\n",
    "        team_one_gains = [len(four_pointers[(four_pointers.TEAM_NAME == two_teams[1]) & (four_pointers.PERIOD <= x)]) for x in periods]\n",
    "        #here team_zero_gains has length 1+ number of overtimes, and contains the appropriate number of 4 pointers made by\n",
    "        #team_zero\n",
    "        team_zero_gains = [team_zero_gains[3]] + [team_zero_gains[i]-team_zero_gains[i-1] for i in range(4,len(team_zero_gains))]\n",
    "        team_one_gains = [team_one_gains[3]] + [team_one_gains[i]-team_one_gains[i-1] for i in range(4,len(team_one_gains))]\n",
    "    \n",
    "        #the array pms contains the various swings in points given by the 4-point line, with the inclusion of the final difference\n",
    "        #at the end\n",
    "        pms = [0 for x in range(len(team_zero_gains)-1)] + [pm]\n",
    "\n",
    "        #we are now ready to check if the result would have changed\n",
    "        for i in range(len(team_zero_gains)):\n",
    "            #in the following case, the team that won the game, scored more 4-pointers before going into another overtime,\n",
    "            #so we stop, knowing that the result would have stayed the same\n",
    "            if pms[i] == 0 and (pm)*(pms[i]+team_zero_gains[i]-team_one_gains[i]) > 0:\n",
    "                break\n",
    "            #if there is a 4-point differential of opposite sign to the final score difference, it now means that the result\n",
    "            #would have changed. Note that changing from a strict inequality to <=, includes all games that would have been forced\n",
    "            #into overtime\n",
    "            if (pm)*(pms[i]+team_zero_gains[i]-team_one_gains[i]) <= 0:\n",
    "                if (pm)*(pms[i]+team_zero_gains[i]-team_one_gains[i]) == 0:\n",
    "                    games_to_overtime.append(g_id)\n",
    "                else:\n",
    "                    games_changed.append(g_id)\n",
    "                break\n",
    "    return([games_changed,games_to_overtime])"
   ]
  },
  {
   "cell_type": "code",
   "execution_count": 6,
   "id": "96995eb1-e1e0-45ad-b50e-cb6e578f4fe3",
   "metadata": {},
   "outputs": [
    {
     "data": {
      "text/plain": [
       "9"
      ]
     },
     "execution_count": 6,
     "metadata": {},
     "output_type": "execute_result"
    }
   ],
   "source": [
    "games_changed = findAllGamesChanged('2022-23',30)\n",
    "len(games_changed[0])"
   ]
  },
  {
   "cell_type": "markdown",
   "id": "411b8f22-31af-4111-82aa-1d1801d5ffc1",
   "metadata": {},
   "source": [
    "Answer to Q1: There are 9 games that would have had the result flipped. In his video, JxmyHighroller claimed that there were only 2 games where this happened. Let's see where his mistake was with an example."
   ]
  },
  {
   "cell_type": "code",
   "execution_count": 7,
   "id": "23c503b9-fcfc-436c-b983-6137a218a5cc",
   "metadata": {},
   "outputs": [
    {
     "name": "stdout",
     "output_type": "stream",
     "text": [
      "    MATCHUP  GAME_DATE\n",
      "LAC vs. SAC 2023-02-24\n",
      "  LAL @ BOS 2023-01-28\n",
      "  GSW @ BOS 2023-01-19\n",
      "  ATL @ GSW 2023-01-02\n",
      "CHA vs. DET 2022-12-14\n",
      "CHI vs. NYK 2022-12-14\n",
      "  CHI @ ATL 2022-12-11\n",
      "BOS vs. MIA 2022-12-02\n",
      "  GSW @ CHA 2022-10-29\n"
     ]
    }
   ],
   "source": [
    "#we can print all the relevant matchups, where the first team is the one that originally lost\n",
    "all_games = findAllGames('2022-23')\n",
    "full_game = all_games[(all_games.GAME_ID.isin(games_changed[0])) & (all_games.WL == 'L')]\n",
    "print(full_game[['MATCHUP','GAME_DATE']].to_string(index=False))"
   ]
  },
  {
   "cell_type": "markdown",
   "id": "4401ba36-ea54-46a7-a68c-077d53dd2550",
   "metadata": {},
   "source": [
    "Consider for example the last game, which ended 120-113 in favour of Charlotte after one overtime. In this game Jordan Poole was the only one making a 30+ footer, and since this happened in regular time, it would have won GSW the game! However if one counts this as only one extra point for GSW, since the score was +7 for CHA, an easy mistake!"
   ]
  },
  {
   "cell_type": "markdown",
   "id": "b23e35ce-9fe5-4f17-8892-826446e8437f",
   "metadata": {},
   "source": [
    "We can now easily extend the result to the last 23 seasons!"
   ]
  },
  {
   "cell_type": "code",
   "execution_count": 9,
   "id": "56f4b69a-b9d6-46e5-b36f-c9a351ff40e7",
   "metadata": {},
   "outputs": [],
   "source": [
    "all_seasons = [\"200\"+str(x)+\"-0\"+str(x+1) for x in range(9)]+[\"2009-10\"]+[\"20\"+str(x)+\"-\"+str(x+1) for x in range(10,23)]\n",
    "all_changes = []\n",
    "for season in all_seasons:\n",
    "    all_changes.append([len(x) for x in findAllGamesChanged(season,30)])"
   ]
  },
  {
   "cell_type": "code",
   "execution_count": 11,
   "id": "1ed77128-4ef9-4d47-be46-dc64064e6e3b",
   "metadata": {},
   "outputs": [],
   "source": [
    "df2 = pd.DataFrame(all_changes, columns=[\"Games Flipped\",\"Games to Overtime\"],index=all_seasons)"
   ]
  },
  {
   "cell_type": "code",
   "execution_count": 13,
   "id": "22c6df4c-848a-45ea-bb8b-feb434a8d89d",
   "metadata": {},
   "outputs": [
    {
     "data": {
      "text/html": [
       "<div>\n",
       "<style scoped>\n",
       "    .dataframe tbody tr th:only-of-type {\n",
       "        vertical-align: middle;\n",
       "    }\n",
       "\n",
       "    .dataframe tbody tr th {\n",
       "        vertical-align: top;\n",
       "    }\n",
       "\n",
       "    .dataframe thead th {\n",
       "        text-align: right;\n",
       "    }\n",
       "</style>\n",
       "<table border=\"1\" class=\"dataframe\">\n",
       "  <thead>\n",
       "    <tr style=\"text-align: right;\">\n",
       "      <th></th>\n",
       "      <th>Games Flipped</th>\n",
       "      <th>Games to Overtime</th>\n",
       "    </tr>\n",
       "  </thead>\n",
       "  <tbody>\n",
       "    <tr>\n",
       "      <th>2000-01</th>\n",
       "      <td>4</td>\n",
       "      <td>79</td>\n",
       "    </tr>\n",
       "    <tr>\n",
       "      <th>2001-02</th>\n",
       "      <td>1</td>\n",
       "      <td>69</td>\n",
       "    </tr>\n",
       "    <tr>\n",
       "      <th>2002-03</th>\n",
       "      <td>2</td>\n",
       "      <td>84</td>\n",
       "    </tr>\n",
       "    <tr>\n",
       "      <th>2003-04</th>\n",
       "      <td>4</td>\n",
       "      <td>67</td>\n",
       "    </tr>\n",
       "    <tr>\n",
       "      <th>2004-05</th>\n",
       "      <td>3</td>\n",
       "      <td>76</td>\n",
       "    </tr>\n",
       "    <tr>\n",
       "      <th>2005-06</th>\n",
       "      <td>1</td>\n",
       "      <td>84</td>\n",
       "    </tr>\n",
       "    <tr>\n",
       "      <th>2006-07</th>\n",
       "      <td>2</td>\n",
       "      <td>83</td>\n",
       "    </tr>\n",
       "    <tr>\n",
       "      <th>2007-08</th>\n",
       "      <td>2</td>\n",
       "      <td>61</td>\n",
       "    </tr>\n",
       "    <tr>\n",
       "      <th>2008-09</th>\n",
       "      <td>2</td>\n",
       "      <td>65</td>\n",
       "    </tr>\n",
       "    <tr>\n",
       "      <th>2009-10</th>\n",
       "      <td>1</td>\n",
       "      <td>71</td>\n",
       "    </tr>\n",
       "    <tr>\n",
       "      <th>2010-11</th>\n",
       "      <td>3</td>\n",
       "      <td>78</td>\n",
       "    </tr>\n",
       "    <tr>\n",
       "      <th>2011-12</th>\n",
       "      <td>0</td>\n",
       "      <td>61</td>\n",
       "    </tr>\n",
       "    <tr>\n",
       "      <th>2012-13</th>\n",
       "      <td>3</td>\n",
       "      <td>73</td>\n",
       "    </tr>\n",
       "    <tr>\n",
       "      <th>2013-14</th>\n",
       "      <td>1</td>\n",
       "      <td>81</td>\n",
       "    </tr>\n",
       "    <tr>\n",
       "      <th>2014-15</th>\n",
       "      <td>1</td>\n",
       "      <td>74</td>\n",
       "    </tr>\n",
       "    <tr>\n",
       "      <th>2015-16</th>\n",
       "      <td>0</td>\n",
       "      <td>77</td>\n",
       "    </tr>\n",
       "    <tr>\n",
       "      <th>2016-17</th>\n",
       "      <td>3</td>\n",
       "      <td>64</td>\n",
       "    </tr>\n",
       "    <tr>\n",
       "      <th>2017-18</th>\n",
       "      <td>1</td>\n",
       "      <td>59</td>\n",
       "    </tr>\n",
       "    <tr>\n",
       "      <th>2018-19</th>\n",
       "      <td>4</td>\n",
       "      <td>66</td>\n",
       "    </tr>\n",
       "    <tr>\n",
       "      <th>2019-20</th>\n",
       "      <td>9</td>\n",
       "      <td>57</td>\n",
       "    </tr>\n",
       "    <tr>\n",
       "      <th>2020-21</th>\n",
       "      <td>13</td>\n",
       "      <td>46</td>\n",
       "    </tr>\n",
       "    <tr>\n",
       "      <th>2021-22</th>\n",
       "      <td>9</td>\n",
       "      <td>42</td>\n",
       "    </tr>\n",
       "    <tr>\n",
       "      <th>2022-23</th>\n",
       "      <td>9</td>\n",
       "      <td>68</td>\n",
       "    </tr>\n",
       "  </tbody>\n",
       "</table>\n",
       "</div>"
      ],
      "text/plain": [
       "         Games Flipped  Games to Overtime\n",
       "2000-01              4                 79\n",
       "2001-02              1                 69\n",
       "2002-03              2                 84\n",
       "2003-04              4                 67\n",
       "2004-05              3                 76\n",
       "2005-06              1                 84\n",
       "2006-07              2                 83\n",
       "2007-08              2                 61\n",
       "2008-09              2                 65\n",
       "2009-10              1                 71\n",
       "2010-11              3                 78\n",
       "2011-12              0                 61\n",
       "2012-13              3                 73\n",
       "2013-14              1                 81\n",
       "2014-15              1                 74\n",
       "2015-16              0                 77\n",
       "2016-17              3                 64\n",
       "2017-18              1                 59\n",
       "2018-19              4                 66\n",
       "2019-20              9                 57\n",
       "2020-21             13                 46\n",
       "2021-22              9                 42\n",
       "2022-23              9                 68"
      ]
     },
     "execution_count": 13,
     "metadata": {},
     "output_type": "execute_result"
    }
   ],
   "source": [
    "df2"
   ]
  },
  {
   "cell_type": "markdown",
   "id": "aa4d18de-4f06-45c8-b6a5-21aa0a432643",
   "metadata": {},
   "source": [
    "We plot the number of games flipped (from win to loss or viceversa)."
   ]
  },
  {
   "cell_type": "code",
   "execution_count": 15,
   "id": "ccd6e8c9-3b99-47bd-a4b0-4bfb3a4a54ee",
   "metadata": {},
   "outputs": [
    {
     "data": {
      "image/png": "[encoded data removed]",
      "text/plain": [
       "<Figure size 640x480 with 1 Axes>"
      ]
     },
     "metadata": {},
     "output_type": "display_data"
    }
   ],
   "source": [
    "plot1 = df2[['Games Flipped']].plot.bar(stacked=True).set(xlabel=\"Season\", ylabel=\"Number of games\")"
   ]
  },
  {
   "cell_type": "markdown",
   "id": "a54c1bb2-3c33-4bbc-a800-14d9c6eb77f7",
   "metadata": {},
   "source": [
    "We conclude by looking at the impact of different distances for the 4-point line on last season."
   ]
  },
  {
   "cell_type": "code",
   "execution_count": 16,
   "id": "d4a5d70e-2570-462c-999d-2a482c358384",
   "metadata": {},
   "outputs": [],
   "source": [
    "games_flipped_by_distance = []\n",
    "for d in range(23,50):\n",
    "    games_flipped_by_distance.append(findAllGamesChanged('2022-23',d))"
   ]
  },
  {
   "cell_type": "code",
   "execution_count": 18,
   "id": "e0ad72d3-097e-42d2-a048-ecba0b6a8a4f",
   "metadata": {},
   "outputs": [],
   "source": [
    "number_flipped_games = [len(x[0]) for x in games_flipped_by_distance]\n",
    "df3 = pd.DataFrame(number_flipped_games, columns=[\"Games Flipped\"],index=range(23,50))"
   ]
  },
  {
   "cell_type": "code",
   "execution_count": 19,
   "id": "4d0a907d-31d3-4bba-ae96-d8cec185f987",
   "metadata": {},
   "outputs": [
    {
     "data": {
      "image/png": "[encoded data removed]",
      "text/plain": [
       "<Figure size 640x480 with 1 Axes>"
      ]
     },
     "metadata": {},
     "output_type": "display_data"
    }
   ],
   "source": [
    "plot2 = df3.plot.bar(stacked=True).set(xlabel=\"Distance in feet\", ylabel=\"Number of games\")"
   ]
  },
  {
   "cell_type": "markdown",
   "id": "798c81ed-a3c0-41c7-9c87-05bbc0a5516e",
   "metadata": {},
   "source": [
    "The tale is given by the following game."
   ]
  },
  {
   "cell_type": "code",
   "execution_count": 23,
   "id": "a5ceb91f-bb2d-45a6-8170-05dea908c42b",
   "metadata": {},
   "outputs": [
    {
     "name": "stdout",
     "output_type": "stream",
     "text": [
      "  MATCHUP  GAME_DATE\n",
      "GSW @ BOS 2023-01-19\n"
     ]
    }
   ],
   "source": [
    "all_games = findAllGames('2022-23')\n",
    "full_game = all_games[(all_games.GAME_ID==games_flipped_by_distance[-1][0][0]) & (all_games.WL == 'L')]\n",
    "print(full_game[['MATCHUP','GAME_DATE']].to_string(index=False))"
   ]
  },
  {
   "cell_type": "markdown",
   "id": "804c9c65-c8ae-46d0-9b0c-85ffe65a128f",
   "metadata": {},
   "source": [
    "Indeed Steph Curry scored from beyond half court, and that would have won the game in regulation, instead of losing in overtime."
   ]
  }
 ],
 "metadata": {
  "kernelspec": {
   "display_name": "Python 3 (ipykernel)",
   "language": "python",
   "name": "python3"
  },
  "language_info": {
   "codemirror_mode": {
    "name": "ipython",
    "version": 3
   },
   "file_extension": ".py",
   "mimetype": "text/x-python",
   "name": "python",
   "nbconvert_exporter": "python",
   "pygments_lexer": "ipython3",
   "version": "3.11.5"
  }
 },
 "nbformat": 4,
 "nbformat_minor": 5
}
